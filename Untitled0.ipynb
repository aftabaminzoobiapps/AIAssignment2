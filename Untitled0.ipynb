{
  "nbformat": 4,
  "nbformat_minor": 0,
  "metadata": {
    "colab": {
      "name": "Untitled0.ipynb",
      "provenance": [],
      "collapsed_sections": []
    },
    "kernelspec": {
      "name": "python3",
      "display_name": "Python 3"
    }
  },
  "cells": [
    {
      "cell_type": "code",
      "metadata": {
        "colab": {
          "base_uri": "https://localhost:8080/"
        },
        "id": "ovj-GM72gQAM",
        "outputId": "9b280b9d-837e-40e1-c939-3f76aadd6136"
      },
      "source": [
        "import numpy as np\r\n",
        "x = np.full((4,5),0)\r\n",
        "print(x)"
      ],
      "execution_count": null,
      "outputs": [
        {
          "output_type": "stream",
          "text": [
            "[[0 0 0 0 0]\n",
            " [0 0 0 0 0]\n",
            " [0 0 0 0 0]\n",
            " [0 0 0 0 0]]\n"
          ],
          "name": "stdout"
        }
      ]
    },
    {
      "cell_type": "code",
      "metadata": {
        "colab": {
          "base_uri": "https://localhost:8080/"
        },
        "id": "XWwo1-4Xi4LY",
        "outputId": "82de3ecb-316e-44dd-c79d-7fa6cf2eb72e"
      },
      "source": [
        "import numpy as np\r\n",
        "x = np.zeros(10)\r\n",
        "print(x)\r\n",
        "print(\"Update sixth value to 11\")\r\n",
        "x[4] = 10\r\n",
        "x[7] = 20\r\n",
        "print(x)"
      ],
      "execution_count": null,
      "outputs": [
        {
          "output_type": "stream",
          "text": [
            "[0. 0. 0. 0. 0. 0. 0. 0. 0. 0.]\n",
            "Update sixth value to 11\n",
            "[ 0.  0.  0.  0. 10.  0.  0. 20.  0.  0.]\n"
          ],
          "name": "stdout"
        }
      ]
    },
    {
      "cell_type": "code",
      "metadata": {
        "colab": {
          "base_uri": "https://localhost:8080/"
        },
        "id": "eFET7gDsjLTq",
        "outputId": "8149a4c3-b981-41f2-ec9b-12bb67b2bd04"
      },
      "source": [
        "import numpy as np\r\n",
        "def function7():\r\n",
        "    #  Create an array of zeros with the same shape and type as X. Dont use reshape method\r\n",
        "    x = np.arange(4, dtype=np.int64)\r\n",
        "    return np.zeros_like(x)\r\n",
        "\r\n",
        "j = function7()\r\n",
        "print(j)"
      ],
      "execution_count": 5,
      "outputs": [
        {
          "output_type": "stream",
          "text": [
            "[0 0 0 0]\n"
          ],
          "name": "stdout"
        }
      ]
    },
    {
      "cell_type": "code",
      "metadata": {
        "colab": {
          "base_uri": "https://localhost:8080/"
        },
        "id": "IDOHZVl2oDP0",
        "outputId": "611e8598-43d2-48b8-ea99-a6b908a2dda5"
      },
      "source": [
        "import numpy as np\r\n",
        "#using no.full\r\n",
        "x = np.full((2, 5), 6, dtype=np.uint)\r\n",
        "print(x)"
      ],
      "execution_count": 6,
      "outputs": [
        {
          "output_type": "stream",
          "text": [
            "[[6 6 6 6 6]\n",
            " [6 6 6 6 6]]\n"
          ],
          "name": "stdout"
        }
      ]
    },
    {
      "cell_type": "code",
      "metadata": {
        "colab": {
          "base_uri": "https://localhost:8080/"
        },
        "id": "5_DpcITzocHs",
        "outputId": "364ce8be-ca99-48a2-c4b5-f6548850bee6"
      },
      "source": [
        "import numpy as np\r\n",
        "array=np.arange(2,101,2)\r\n",
        "print(array) "
      ],
      "execution_count": 7,
      "outputs": [
        {
          "output_type": "stream",
          "text": [
            "[  2   4   6   8  10  12  14  16  18  20  22  24  26  28  30  32  34  36\n",
            "  38  40  42  44  46  48  50  52  54  56  58  60  62  64  66  68  70  72\n",
            "  74  76  78  80  82  84  86  88  90  92  94  96  98 100]\n"
          ],
          "name": "stdout"
        }
      ]
    },
    {
      "cell_type": "code",
      "metadata": {
        "colab": {
          "base_uri": "https://localhost:8080/"
        },
        "id": "nRjT1OoZphQU",
        "outputId": "6fdafcb3-48be-4477-b133-a584731a127b"
      },
      "source": [
        "  \r\n",
        "import numpy as np \r\n",
        "  \r\n",
        "arr = np.array([[3,3,3],[4,4,4],[5,5,5]])\r\n",
        "brr = np.array([1,2,3])\r\n",
        "subt= arr-brr[:,None]\r\n",
        "print (\"Output array: \", subt)  "
      ],
      "execution_count": 12,
      "outputs": [
        {
          "output_type": "stream",
          "text": [
            "Output array:  [[2 2 2]\n",
            " [2 2 2]\n",
            " [2 2 2]]\n"
          ],
          "name": "stdout"
        }
      ]
    },
    {
      "cell_type": "code",
      "metadata": {
        "colab": {
          "base_uri": "https://localhost:8080/"
        },
        "id": "qslZtSPUr3Xb",
        "outputId": "36506f02-68c3-4a2e-92ba-3e9d22b60be0"
      },
      "source": [
        " import numpy as np\r\n",
        " arr = np.array([0, 1, 2, 3, 4, 5, 6, 7, 8, 9])\r\n",
        " ans = arr[arr%2 == 1] = -1\r\n",
        " print(arr) \r\n",
        " "
      ],
      "execution_count": 15,
      "outputs": [
        {
          "output_type": "stream",
          "text": [
            "[ 0 -1  2 -1  4 -1  6 -1  8 -1]\n"
          ],
          "name": "stdout"
        }
      ]
    },
    {
      "cell_type": "code",
      "metadata": {
        "colab": {
          "base_uri": "https://localhost:8080/"
        },
        "id": "BAx-q3Mds8FD",
        "outputId": "0cc5f419-5dfb-49f2-8877-7aed67a79ef4"
      },
      "source": [
        "import numpy as np \r\n",
        "arr = np.array([1,2,3])\r\n",
        "ans1 = np.dstack((arr,arr,arr)).flatten()\r\n",
        "ans2 = np.hstack((arr,arr,arr))\r\n",
        "ans = np.concatenate((ans1, ans2), axis=None)\r\n",
        "print(ans)"
      ],
      "execution_count": 30,
      "outputs": [
        {
          "output_type": "stream",
          "text": [
            "[1 1 1 2 2 2 3 3 3 1 2 3 1 2 3 1 2 3]\n"
          ],
          "name": "stdout"
        }
      ]
    }
  ]
}